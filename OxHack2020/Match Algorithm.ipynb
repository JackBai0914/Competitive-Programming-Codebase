{
 "cells": [
  {
   "cell_type": "code",
   "execution_count": 55,
   "metadata": {},
   "outputs": [],
   "source": [
    "import numpy as np\n",
    "import random as rd"
   ]
  },
  {
   "cell_type": "code",
   "execution_count": 65,
   "metadata": {},
   "outputs": [],
   "source": [
    "class Info:\n",
    "#   information of one person\n",
    "    def __init__(self, name, age, gender, email, phone_number):\n",
    "        self.name = name\n",
    "        self.age = age\n",
    "        self.gender = gender\n",
    "        self.email = email\n",
    "        self.phone_number = phone_number\n",
    "\n",
    "class TS_Zone:\n",
    "    # the position of an event in the time-space continuum.\n",
    "    # the time must be multiple of 30\n",
    "    def __init__(self, loc, st_time):\n",
    "        self.loc = loc\n",
    "        self.st = st_time\n",
    "        self.ed = st_time + 30\n",
    "\n",
    "class Timetable:\n",
    "    def __init__(self, zones):\n",
    "        self.zones = zones\n",
    "    def add (self, zone):\n",
    "        self.zones.append(zone)\n",
    "\n",
    "def intersect (tt1, tt2):\n",
    "    tt_int = Timetable([])\n",
    "    for zone in tt1:\n",
    "        if zone in tt2:\n",
    "            tt.add(zone)\n",
    "    return tt_int"
   ]
  },
  {
   "cell_type": "code",
   "execution_count": 58,
   "metadata": {},
   "outputs": [],
   "source": [
    "class Assignment:\n",
    "#     A query post by a user, haven't find the other half\n",
    "    def __init__(self, timetable, model):   \n",
    "        self.timetable = timetable\n",
    "        self.model = model\n",
    "    def if_fit(self, user):\n",
    "        # Match a user with the model to decide whether it fits\n",
    "        # Features able to match: gender\n",
    "        if self.model.info.gender != '*' and self.model.info.gender != user.info.gender:\n",
    "            return False\n",
    "        return True\n",
    "\n",
    "class Event:\n",
    "#   A made match that's finalized.\n",
    "    def __init__(self, user1, user2, pre_assignment):\n",
    "        self.user1 = user1\n",
    "        self.user2 - user2\n",
    "        self.pre_assignment = pre_assignment\n",
    "    def form (self, assign, user2):\n",
    "        #Construct an event based on an assignment and a user\n",
    "        _ = _\n",
    "class User:\n",
    "    def __init__ (self, info, timetable, schedule):\n",
    "        # Timetable is the spare time\n",
    "        # Schedule is the scheduled events\n",
    "        self.info = info\n",
    "        self.schedule = schedule\n",
    "        self.timetable = timetable.\n",
    "\n",
    "# model = Assignment('*', User(Info(\"\", \"\", '*', \"\", \"\")))\n",
    "# mode2 = Assignment('a', User(Info(\"\", \"\", 'a', \"\", \"\")))\n",
    "# a2 = User(Personal_Info(\"\", \"\", \"b\", \"\", \"\"))\n",
    "# print (model.if_fit(a2))\n",
    "# print (mode2.if_fit(a2))"
   ]
  },
  {
   "cell_type": "code",
   "execution_count": 59,
   "metadata": {},
   "outputs": [],
   "source": [
    "# Given an event newly made\n",
    "def update_event (e):\n",
    "    #Update User1, 2's schedule\n",
    "    #Update Event List\n",
    "    #Update Assignment List\n",
    "    _ = _"
   ]
  },
  {
   "cell_type": "code",
   "execution_count": 60,
   "metadata": {},
   "outputs": [],
   "source": [
    "# Given an assignment 'a' and a list of candidate 'users'\n",
    "# Return a legal user2 from 'users' for 'a'.\n",
    "def choose_user2 (assign, users):\n",
    "    fit_users = filter(assign.if_fit, users)\n",
    "    return rd.choice(fit_users)"
   ]
  },
  {
   "cell_type": "code",
   "execution_count": null,
   "metadata": {},
   "outputs": [],
   "source": [
    "# Given two users want to match,\n",
    "# create an assignment fit both of them,\n",
    "def force_match (user1, user2):\n",
    "    \n",
    "    \n"
   ]
  }
 ],
 "metadata": {
  "kernelspec": {
   "display_name": "Python 3",
   "language": "python",
   "name": "python3"
  },
  "language_info": {
   "codemirror_mode": {
    "name": "ipython",
    "version": 3
   },
   "file_extension": ".py",
   "mimetype": "text/x-python",
   "name": "python",
   "nbconvert_exporter": "python",
   "pygments_lexer": "ipython3",
   "version": "3.7.0"
  }
 },
 "nbformat": 4,
 "nbformat_minor": 2
}
